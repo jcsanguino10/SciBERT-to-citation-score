{
 "cells": [
  {
   "cell_type": "markdown",
   "id": "31b31e74",
   "metadata": {},
   "source": [
    "# SciBERT Multi-label Classification (Micro F1)\n",
    "\n",
    "This notebook demonstrates the process of training and evaluating a multi-label classification model using SciBERT, focusing on micro F1 metrics. Each step is explained in detail."
   ]
  },
  {
   "cell_type": "markdown",
   "id": "2b50ed95",
   "metadata": {},
   "source": [
    "## Import Libraries\n",
    "\n",
    "Import all necessary libraries for data handling, model training, and evaluation."
   ]
  },
  {
   "cell_type": "code",
   "execution_count": null,
   "id": "6c88024a",
   "metadata": {},
   "outputs": [
    {
     "name": "stderr",
     "output_type": "stream",
     "text": [
      "2025-07-08 19:34:18.572723: I tensorflow/core/util/port.cc:113] oneDNN custom operations are on. You may see slightly different numerical results due to floating-point round-off errors from different computation orders. To turn them off, set the environment variable `TF_ENABLE_ONEDNN_OPTS=0`.\n",
      "2025-07-08 19:34:18.915703: E external/local_xla/xla/stream_executor/cuda/cuda_dnn.cc:9261] Unable to register cuDNN factory: Attempting to register factory for plugin cuDNN when one has already been registered\n",
      "2025-07-08 19:34:18.915735: E external/local_xla/xla/stream_executor/cuda/cuda_fft.cc:607] Unable to register cuFFT factory: Attempting to register factory for plugin cuFFT when one has already been registered\n",
      "2025-07-08 19:34:18.949746: E external/local_xla/xla/stream_executor/cuda/cuda_blas.cc:1515] Unable to register cuBLAS factory: Attempting to register factory for plugin cuBLAS when one has already been registered\n",
      "2025-07-08 19:34:19.017610: I tensorflow/core/platform/cpu_feature_guard.cc:182] This TensorFlow binary is optimized to use available CPU instructions in performance-critical operations.\n",
      "To enable the following instructions: AVX2 AVX512F AVX512_VNNI FMA, in other operations, rebuild TensorFlow with the appropriate compiler flags.\n",
      "2025-07-08 19:34:20.035542: W tensorflow/compiler/tf2tensorrt/utils/py_utils.cc:38] TF-TRT Warning: Could not find TensorRT\n"
     ]
    }
   ],
   "source": [
    "from transformers import AutoTokenizer, AutoModelForSequenceClassification, TrainingArguments, Trainer, AutoConfig, EarlyStoppingCallback\n",
    "from datasets import Dataset, DatasetDict\n",
    "import evaluate\n",
    "import numpy as np\n",
    "\n",
    "from sklearn.model_selection import train_test_split\n",
    "from sklearn.metrics import precision_recall_fscore_support\n",
    "import matplotlib.pyplot as plt\n",
    "import seaborn as sns\n",
    "from sklearn.metrics import confusion_matrix\n",
    "\n",
    "\n",
    "import pandas as pd\n",
    "import torch"
   ]
  },
  {
   "cell_type": "markdown",
   "id": "99aa7e96",
   "metadata": {},
   "source": [
    "## Device Setup\n",
    "\n",
    "Check if a GPU is available and set the device for PyTorch accordingly."
   ]
  },
  {
   "cell_type": "code",
   "execution_count": null,
   "id": "3a30167f-d229-41c6-bb98-0cfd62a41753",
   "metadata": {},
   "outputs": [
    {
     "name": "stdout",
     "output_type": "stream",
     "text": [
      "Using GPU: 0\n"
     ]
    }
   ],
   "source": [
    "if torch.cuda.is_available():\n",
    "\n",
    "    device_id = 0  # Example: select the second GPU\n",
    "\n",
    "    torch.cuda.set_device(device_id)\n",
    "\n",
    "    print(f\"Using GPU: {torch.cuda.current_device()}\") # Display the selected device ID\n",
    "\n",
    "else:\n",
    "\n",
    "    device = torch.device(\"cpu\")\n",
    "\n",
    "    print(f\"Using CPU: {device}\")"
   ]
  },
  {
   "cell_type": "code",
   "execution_count": null,
   "id": "c16aafa7-a357-4e25-890d-9d3b4d1d0e25",
   "metadata": {},
   "outputs": [
    {
     "name": "stdout",
     "output_type": "stream",
     "text": [
      "Current GPU device ID: 0\n"
     ]
    }
   ],
   "source": [
    "if torch.cuda.is_available():\n",
    "    current_device = torch.cuda.current_device()\n",
    "    print(f\"Current GPU device ID: {current_device}\")"
   ]
  },
  {
   "cell_type": "markdown",
   "id": "7224ca30",
   "metadata": {},
   "source": [
    "## Load and Prepare Data\n",
    "\n",
    "Load the ACT2 dataset, select relevant columns, and rename the label column for clarity."
   ]
  },
  {
   "cell_type": "code",
   "execution_count": null,
   "id": "cf6c38aa",
   "metadata": {},
   "outputs": [],
   "source": [
    "df_act2_full = pd.read_csv('ACT2_dataset.tsv', sep='\\t', usecols=['cited_title','cited_abstract','citation_context', 'unique_id','citation_class_label'])\n",
    "\n",
    "#Rename column \"citation_class_label\" to \"labels\"\n",
    "df_act2_full.rename(columns={'citation_class_label': 'labels'}, inplace=True)"
   ]
  },
  {
   "cell_type": "markdown",
   "id": "a637582e",
   "metadata": {},
   "source": [
    "## Data Cleaning\n",
    "\n",
    "Fill missing values in the title and abstract columns with empty strings."
   ]
  },
  {
   "cell_type": "code",
   "execution_count": null,
   "id": "a793daf9-2cbf-43e8-90ba-5f1d71ad38f5",
   "metadata": {},
   "outputs": [],
   "source": [
    "df_act2_full['cited_title'] = df_act2_full['cited_title'].fillna('')\n",
    "df_act2_full['cited_abstract'] = df_act2_full['cited_abstract'].fillna('')"
   ]
  },
  {
   "cell_type": "markdown",
   "id": "002d0d7f",
   "metadata": {},
   "source": [
    "## Feature Engineering\n",
    "\n",
    "Concatenate the title, abstract, and citation context into a single input string for the model."
   ]
  },
  {
   "cell_type": "code",
   "execution_count": null,
   "id": "50e07157-2e96-4ff9-a9aa-979a62af19c7",
   "metadata": {},
   "outputs": [],
   "source": [
    "df_act2_full['input_model'] = df_act2_full['cited_title'] + \" \" \\\n",
    "                            + df_act2_full['cited_abstract'] +  \" [ES_SEP] \" \\\n",
    "                            + df_act2_full['citation_context']"
   ]
  },
  {
   "cell_type": "markdown",
   "id": "1eee967d",
   "metadata": {},
   "source": [
    "## Split Data\n",
    "\n",
    "Split the dataset into test and train sets. The first 1000 samples are used for testing, and the rest for training."
   ]
  },
  {
   "cell_type": "code",
   "execution_count": null,
   "id": "84869431",
   "metadata": {},
   "outputs": [],
   "source": [
    "df_act2_test = df_act2_full.head(1000)\n",
    "df_act2_train = df_act2_full.tail(len(df_act2_full) - 1000)"
   ]
  },
  {
   "cell_type": "code",
   "execution_count": null,
   "id": "67e0df0a",
   "metadata": {},
   "outputs": [
    {
     "data": {
      "text/html": [
       "<div>\n",
       "<style scoped>\n",
       "    .dataframe tbody tr th:only-of-type {\n",
       "        vertical-align: middle;\n",
       "    }\n",
       "\n",
       "    .dataframe tbody tr th {\n",
       "        vertical-align: top;\n",
       "    }\n",
       "\n",
       "    .dataframe thead th {\n",
       "        text-align: right;\n",
       "    }\n",
       "</style>\n",
       "<table border=\"1\" class=\"dataframe\">\n",
       "  <thead>\n",
       "    <tr style=\"text-align: right;\">\n",
       "      <th></th>\n",
       "      <th>unique_id</th>\n",
       "      <th>cited_title</th>\n",
       "      <th>cited_abstract</th>\n",
       "      <th>citation_context</th>\n",
       "      <th>labels</th>\n",
       "      <th>input_model</th>\n",
       "    </tr>\n",
       "  </thead>\n",
       "  <tbody>\n",
       "    <tr>\n",
       "      <th>1000</th>\n",
       "      <td>CC1001</td>\n",
       "      <td>Web search personalization with ontological us...</td>\n",
       "      <td>Every user has a distinct background and a spe...</td>\n",
       "      <td>They usually generate user models that describ...</td>\n",
       "      <td>5</td>\n",
       "      <td>Web search personalization with ontological us...</td>\n",
       "    </tr>\n",
       "    <tr>\n",
       "      <th>1001</th>\n",
       "      <td>CC1002</td>\n",
       "      <td>Exploring Scholarly Data with Rexplore</td>\n",
       "      <td>Despite the large number and variety of tools ...</td>\n",
       "      <td>The Computer Science Ontology (CSO) [3] is a l...</td>\n",
       "      <td>0</td>\n",
       "      <td>Exploring Scholarly Data with Rexplore Despite...</td>\n",
       "    </tr>\n",
       "    <tr>\n",
       "      <th>1002</th>\n",
       "      <td>CC1003</td>\n",
       "      <td>Klink-2: Integrating Multiple Web Sources to G...</td>\n",
       "      <td>The amount of scholarly data available on the ...</td>\n",
       "      <td>In order to do so, we characterized all SN pub...</td>\n",
       "      <td>0</td>\n",
       "      <td>Klink-2: Integrating Multiple Web Sources to G...</td>\n",
       "    </tr>\n",
       "    <tr>\n",
       "      <th>1003</th>\n",
       "      <td>CC1004</td>\n",
       "      <td>Forecasting the Spreading of Technologies in R...</td>\n",
       "      <td>Technologies such as algorithms, applications ...</td>\n",
       "      <td>This API supports a number of applications, in...</td>\n",
       "      <td>0</td>\n",
       "      <td>Forecasting the Spreading of Technologies in R...</td>\n",
       "    </tr>\n",
       "    <tr>\n",
       "      <th>1004</th>\n",
       "      <td>CC1005</td>\n",
       "      <td>Supporting Springer Nature Editors by means of...</td>\n",
       "      <td>The Open University and Springer Nature have b...</td>\n",
       "      <td>1) It represents journals, books, and conferen...</td>\n",
       "      <td>5</td>\n",
       "      <td>Supporting Springer Nature Editors by means of...</td>\n",
       "    </tr>\n",
       "    <tr>\n",
       "      <th>...</th>\n",
       "      <td>...</td>\n",
       "      <td>...</td>\n",
       "      <td>...</td>\n",
       "      <td>...</td>\n",
       "      <td>...</td>\n",
       "      <td>...</td>\n",
       "    </tr>\n",
       "    <tr>\n",
       "      <th>3995</th>\n",
       "      <td>CC3996</td>\n",
       "      <td>Modelling channel evolution and floodplain mor...</td>\n",
       "      <td></td>\n",
       "      <td>In order to conclude whether identified fluvia...</td>\n",
       "      <td>0</td>\n",
       "      <td>Modelling channel evolution and floodplain mor...</td>\n",
       "    </tr>\n",
       "    <tr>\n",
       "      <th>3996</th>\n",
       "      <td>CC3997</td>\n",
       "      <td>Atlas of the Danube River Vienna A history of ...</td>\n",
       "      <td></td>\n",
       "      <td>It can be considered as the first map of the V...</td>\n",
       "      <td>5</td>\n",
       "      <td>Atlas of the Danube River Vienna A history of ...</td>\n",
       "    </tr>\n",
       "    <tr>\n",
       "      <th>3997</th>\n",
       "      <td>CC3998</td>\n",
       "      <td>Alte Grenzen im Wiener Raum</td>\n",
       "      <td></td>\n",
       "      <td>Borders of land properties, hunting grounds or...</td>\n",
       "      <td>0</td>\n",
       "      <td>Alte Grenzen im Wiener Raum  [ES_SEP] Borders ...</td>\n",
       "    </tr>\n",
       "    <tr>\n",
       "      <th>3998</th>\n",
       "      <td>CC3999</td>\n",
       "      <td>Avulsive channel systems: characteristics and ...</td>\n",
       "      <td></td>\n",
       "      <td>Due to the high bed shear stress, new channels...</td>\n",
       "      <td>0</td>\n",
       "      <td>Avulsive channel systems: characteristics and ...</td>\n",
       "    </tr>\n",
       "    <tr>\n",
       "      <th>3999</th>\n",
       "      <td>CC4000</td>\n",
       "      <td>Use of Relatively High Fe2O3 Steel Slag as Coa...</td>\n",
       "      <td></td>\n",
       "      <td>ese boulders can be crushed into smaller sizes...</td>\n",
       "      <td>2</td>\n",
       "      <td>Use of Relatively High Fe2O3 Steel Slag as Coa...</td>\n",
       "    </tr>\n",
       "  </tbody>\n",
       "</table>\n",
       "<p>3000 rows × 6 columns</p>\n",
       "</div>"
      ],
      "text/plain": [
       "     unique_id                                        cited_title  \\\n",
       "1000    CC1001  Web search personalization with ontological us...   \n",
       "1001    CC1002             Exploring Scholarly Data with Rexplore   \n",
       "1002    CC1003  Klink-2: Integrating Multiple Web Sources to G...   \n",
       "1003    CC1004  Forecasting the Spreading of Technologies in R...   \n",
       "1004    CC1005  Supporting Springer Nature Editors by means of...   \n",
       "...        ...                                                ...   \n",
       "3995    CC3996  Modelling channel evolution and floodplain mor...   \n",
       "3996    CC3997  Atlas of the Danube River Vienna A history of ...   \n",
       "3997    CC3998                        Alte Grenzen im Wiener Raum   \n",
       "3998    CC3999  Avulsive channel systems: characteristics and ...   \n",
       "3999    CC4000  Use of Relatively High Fe2O3 Steel Slag as Coa...   \n",
       "\n",
       "                                         cited_abstract  \\\n",
       "1000  Every user has a distinct background and a spe...   \n",
       "1001  Despite the large number and variety of tools ...   \n",
       "1002  The amount of scholarly data available on the ...   \n",
       "1003  Technologies such as algorithms, applications ...   \n",
       "1004  The Open University and Springer Nature have b...   \n",
       "...                                                 ...   \n",
       "3995                                                      \n",
       "3996                                                      \n",
       "3997                                                      \n",
       "3998                                                      \n",
       "3999                                                      \n",
       "\n",
       "                                       citation_context  labels  \\\n",
       "1000  They usually generate user models that describ...       5   \n",
       "1001  The Computer Science Ontology (CSO) [3] is a l...       0   \n",
       "1002  In order to do so, we characterized all SN pub...       0   \n",
       "1003  This API supports a number of applications, in...       0   \n",
       "1004  1) It represents journals, books, and conferen...       5   \n",
       "...                                                 ...     ...   \n",
       "3995  In order to conclude whether identified fluvia...       0   \n",
       "3996  It can be considered as the first map of the V...       5   \n",
       "3997  Borders of land properties, hunting grounds or...       0   \n",
       "3998  Due to the high bed shear stress, new channels...       0   \n",
       "3999  ese boulders can be crushed into smaller sizes...       2   \n",
       "\n",
       "                                            input_model  \n",
       "1000  Web search personalization with ontological us...  \n",
       "1001  Exploring Scholarly Data with Rexplore Despite...  \n",
       "1002  Klink-2: Integrating Multiple Web Sources to G...  \n",
       "1003  Forecasting the Spreading of Technologies in R...  \n",
       "1004  Supporting Springer Nature Editors by means of...  \n",
       "...                                                 ...  \n",
       "3995  Modelling channel evolution and floodplain mor...  \n",
       "3996  Atlas of the Danube River Vienna A history of ...  \n",
       "3997  Alte Grenzen im Wiener Raum  [ES_SEP] Borders ...  \n",
       "3998  Avulsive channel systems: characteristics and ...  \n",
       "3999  Use of Relatively High Fe2O3 Steel Slag as Coa...  \n",
       "\n",
       "[3000 rows x 6 columns]"
      ]
     },
     "execution_count": 10,
     "metadata": {},
     "output_type": "execute_result"
    }
   ],
   "source": [
    "df_act2_train"
   ]
  },
  {
   "cell_type": "markdown",
   "id": "94622dde",
   "metadata": {},
   "source": [
    "## Train/Validation Split\n",
    "\n",
    "Further split the training data into train and validation sets, stratified by label."
   ]
  },
  {
   "cell_type": "code",
   "execution_count": null,
   "id": "6f543818",
   "metadata": {},
   "outputs": [
    {
     "name": "stdout",
     "output_type": "stream",
     "text": [
      "Train data size: 2400\n",
      "Validation data size: 600\n"
     ]
    }
   ],
   "source": [
    "train_df, val_df = train_test_split(\n",
    "    df_act2_train,\n",
    "    test_size=0.2,\n",
    "    stratify=df_act2_train['labels'],\n",
    "    random_state=42  # Setting a random state for reproducibility\n",
    ")\n",
    "print(f\"Train data size: {len(train_df)}\")\n",
    "print(f\"Validation data size: {len(val_df)}\")"
   ]
  },
  {
   "cell_type": "code",
   "execution_count": null,
   "id": "d6b64620",
   "metadata": {},
   "outputs": [
    {
     "data": {
      "text/html": [
       "<div>\n",
       "<style scoped>\n",
       "    .dataframe tbody tr th:only-of-type {\n",
       "        vertical-align: middle;\n",
       "    }\n",
       "\n",
       "    .dataframe tbody tr th {\n",
       "        vertical-align: top;\n",
       "    }\n",
       "\n",
       "    .dataframe thead th {\n",
       "        text-align: right;\n",
       "    }\n",
       "</style>\n",
       "<table border=\"1\" class=\"dataframe\">\n",
       "  <thead>\n",
       "    <tr style=\"text-align: right;\">\n",
       "      <th></th>\n",
       "      <th>unique_id</th>\n",
       "      <th>cited_title</th>\n",
       "      <th>cited_abstract</th>\n",
       "      <th>citation_context</th>\n",
       "      <th>labels</th>\n",
       "      <th>input_model</th>\n",
       "    </tr>\n",
       "  </thead>\n",
       "  <tbody>\n",
       "    <tr>\n",
       "      <th>1858</th>\n",
       "      <td>CC1859</td>\n",
       "      <td>Strategic, structural contingency and institut...</td>\n",
       "      <td></td>\n",
       "      <td>Our hypotheses were all supported; in particul...</td>\n",
       "      <td>5</td>\n",
       "      <td>Strategic, structural contingency and institut...</td>\n",
       "    </tr>\n",
       "    <tr>\n",
       "      <th>2921</th>\n",
       "      <td>CC2922</td>\n",
       "      <td>The semantics of number in the Arabic noun phrase</td>\n",
       "      <td>Previous models of searching behavior have tak...</td>\n",
       "      <td>Most roots in Arabic are made up of three cons...</td>\n",
       "      <td>0</td>\n",
       "      <td>The semantics of number in the Arabic noun phr...</td>\n",
       "    </tr>\n",
       "    <tr>\n",
       "      <th>1470</th>\n",
       "      <td>CC1471</td>\n",
       "      <td>The neurology of syntax: Language use without ...</td>\n",
       "      <td>A new view of the functional role of the left ...</td>\n",
       "      <td>English passives are \"harder\" with regard to a...</td>\n",
       "      <td>0</td>\n",
       "      <td>The neurology of syntax: Language use without ...</td>\n",
       "    </tr>\n",
       "    <tr>\n",
       "      <th>3756</th>\n",
       "      <td>CC3757</td>\n",
       "      <td>COMPETITIVE GROUPS AS COGNITIVE COMMUNITIES: T...</td>\n",
       "      <td></td>\n",
       "      <td>As such, the concept of network pictures is in...</td>\n",
       "      <td>2</td>\n",
       "      <td>COMPETITIVE GROUPS AS COGNITIVE COMMUNITIES: T...</td>\n",
       "    </tr>\n",
       "    <tr>\n",
       "      <th>1855</th>\n",
       "      <td>CC1856</td>\n",
       "      <td>Extending sustainability to suppliers: a syste...</td>\n",
       "      <td>Purpose - To make their supply chains more soc...</td>\n",
       "      <td>Firms that engage in establishing strong relat...</td>\n",
       "      <td>0</td>\n",
       "      <td>Extending sustainability to suppliers: a syste...</td>\n",
       "    </tr>\n",
       "    <tr>\n",
       "      <th>...</th>\n",
       "      <td>...</td>\n",
       "      <td>...</td>\n",
       "      <td>...</td>\n",
       "      <td>...</td>\n",
       "      <td>...</td>\n",
       "      <td>...</td>\n",
       "    </tr>\n",
       "    <tr>\n",
       "      <th>1615</th>\n",
       "      <td>CC1616</td>\n",
       "      <td>Self-Organization, Transformity, and Information</td>\n",
       "      <td>Ecosystems and other self-organizing systems d...</td>\n",
       "      <td>To characterize the organization of the steady...</td>\n",
       "      <td>0</td>\n",
       "      <td>Self-Organization, Transformity, and Informati...</td>\n",
       "    </tr>\n",
       "    <tr>\n",
       "      <th>3581</th>\n",
       "      <td>CC3582</td>\n",
       "      <td>How we decide</td>\n",
       "      <td>Background: The aim of the study was to invest...</td>\n",
       "      <td>For instance, recent findings dispute the idea...</td>\n",
       "      <td>1</td>\n",
       "      <td>How we decide Background: The aim of the study...</td>\n",
       "    </tr>\n",
       "    <tr>\n",
       "      <th>2150</th>\n",
       "      <td>CC2151</td>\n",
       "      <td>Why the global availability of mind wandering ...</td>\n",
       "      <td>When the mind wanders, conscious thoughts come...</td>\n",
       "      <td>This debate has been most recently summarized ...</td>\n",
       "      <td>1</td>\n",
       "      <td>Why the global availability of mind wandering ...</td>\n",
       "    </tr>\n",
       "    <tr>\n",
       "      <th>2702</th>\n",
       "      <td>CC2703</td>\n",
       "      <td>The EuroBioBank Network: 10 years of hands-on ...</td>\n",
       "      <td>The EuroBioBank (EBB) network (www.eurobiobank...</td>\n",
       "      <td>Prospective initiatives with comparable aims a...</td>\n",
       "      <td>0</td>\n",
       "      <td>The EuroBioBank Network: 10 years of hands-on ...</td>\n",
       "    </tr>\n",
       "    <tr>\n",
       "      <th>2885</th>\n",
       "      <td>CC2886</td>\n",
       "      <td>Auditory hallucinations in women and men</td>\n",
       "      <td></td>\n",
       "      <td>In clinical samples, rates of auditory halluci...</td>\n",
       "      <td>0</td>\n",
       "      <td>Auditory hallucinations in women and men  [ES_...</td>\n",
       "    </tr>\n",
       "  </tbody>\n",
       "</table>\n",
       "<p>2400 rows × 6 columns</p>\n",
       "</div>"
      ],
      "text/plain": [
       "     unique_id                                        cited_title  \\\n",
       "1858    CC1859  Strategic, structural contingency and institut...   \n",
       "2921    CC2922  The semantics of number in the Arabic noun phrase   \n",
       "1470    CC1471  The neurology of syntax: Language use without ...   \n",
       "3756    CC3757  COMPETITIVE GROUPS AS COGNITIVE COMMUNITIES: T...   \n",
       "1855    CC1856  Extending sustainability to suppliers: a syste...   \n",
       "...        ...                                                ...   \n",
       "1615    CC1616   Self-Organization, Transformity, and Information   \n",
       "3581    CC3582                                      How we decide   \n",
       "2150    CC2151  Why the global availability of mind wandering ...   \n",
       "2702    CC2703  The EuroBioBank Network: 10 years of hands-on ...   \n",
       "2885    CC2886           Auditory hallucinations in women and men   \n",
       "\n",
       "                                         cited_abstract  \\\n",
       "1858                                                      \n",
       "2921  Previous models of searching behavior have tak...   \n",
       "1470  A new view of the functional role of the left ...   \n",
       "3756                                                      \n",
       "1855  Purpose - To make their supply chains more soc...   \n",
       "...                                                 ...   \n",
       "1615  Ecosystems and other self-organizing systems d...   \n",
       "3581  Background: The aim of the study was to invest...   \n",
       "2150  When the mind wanders, conscious thoughts come...   \n",
       "2702  The EuroBioBank (EBB) network (www.eurobiobank...   \n",
       "2885                                                      \n",
       "\n",
       "                                       citation_context  labels  \\\n",
       "1858  Our hypotheses were all supported; in particul...       5   \n",
       "2921  Most roots in Arabic are made up of three cons...       0   \n",
       "1470  English passives are \"harder\" with regard to a...       0   \n",
       "3756  As such, the concept of network pictures is in...       2   \n",
       "1855  Firms that engage in establishing strong relat...       0   \n",
       "...                                                 ...     ...   \n",
       "1615  To characterize the organization of the steady...       0   \n",
       "3581  For instance, recent findings dispute the idea...       1   \n",
       "2150  This debate has been most recently summarized ...       1   \n",
       "2702  Prospective initiatives with comparable aims a...       0   \n",
       "2885  In clinical samples, rates of auditory halluci...       0   \n",
       "\n",
       "                                            input_model  \n",
       "1858  Strategic, structural contingency and institut...  \n",
       "2921  The semantics of number in the Arabic noun phr...  \n",
       "1470  The neurology of syntax: Language use without ...  \n",
       "3756  COMPETITIVE GROUPS AS COGNITIVE COMMUNITIES: T...  \n",
       "1855  Extending sustainability to suppliers: a syste...  \n",
       "...                                                 ...  \n",
       "1615  Self-Organization, Transformity, and Informati...  \n",
       "3581  How we decide Background: The aim of the study...  \n",
       "2150  Why the global availability of mind wandering ...  \n",
       "2702  The EuroBioBank Network: 10 years of hands-on ...  \n",
       "2885  Auditory hallucinations in women and men  [ES_...  \n",
       "\n",
       "[2400 rows x 6 columns]"
      ]
     },
     "execution_count": 12,
     "metadata": {},
     "output_type": "execute_result"
    }
   ],
   "source": [
    "train_df"
   ]
  },
  {
   "cell_type": "markdown",
   "id": "3eaef10a",
   "metadata": {},
   "source": [
    "## Convert to HuggingFace Datasets\n",
    "\n",
    "Convert the pandas DataFrames to HuggingFace Dataset objects for easier handling."
   ]
  },
  {
   "cell_type": "code",
   "execution_count": null,
   "id": "7a28826e",
   "metadata": {},
   "outputs": [],
   "source": [
    "dataset = DatasetDict({\n",
    "    'train': Dataset.from_pandas(train_df, preserve_index=False),\n",
    "    'validation': Dataset.from_pandas(val_df, preserve_index=False),    \n",
    "    'test': Dataset.from_pandas(df_act2_test, preserve_index=False)\n",
    "})"
   ]
  },
  {
   "cell_type": "code",
   "execution_count": null,
   "id": "0c37974c",
   "metadata": {},
   "outputs": [
    {
     "data": {
      "text/plain": [
       "DatasetDict({\n",
       "    train: Dataset({\n",
       "        features: ['unique_id', 'cited_title', 'cited_abstract', 'citation_context', 'labels', 'input_model'],\n",
       "        num_rows: 2400\n",
       "    })\n",
       "    validation: Dataset({\n",
       "        features: ['unique_id', 'cited_title', 'cited_abstract', 'citation_context', 'labels', 'input_model'],\n",
       "        num_rows: 600\n",
       "    })\n",
       "    test: Dataset({\n",
       "        features: ['unique_id', 'cited_title', 'cited_abstract', 'citation_context', 'labels', 'input_model'],\n",
       "        num_rows: 1000\n",
       "    })\n",
       "})"
      ]
     },
     "execution_count": 14,
     "metadata": {},
     "output_type": "execute_result"
    }
   ],
   "source": [
    "dataset"
   ]
  },
  {
   "cell_type": "markdown",
   "id": "c031f904",
   "metadata": {},
   "source": [
    "## Tokenizer Setup\n",
    "\n",
    "Initialize the SciBERT tokenizer and add custom tokens."
   ]
  },
  {
   "cell_type": "code",
   "execution_count": null,
   "id": "6fbdc088",
   "metadata": {},
   "outputs": [],
   "source": [
    "model_name = \"allenai/scibert_scivocab_uncased\"\n",
    "# Initialize the tokenizer\n",
    "tokenizer = AutoTokenizer.from_pretrained(model_name)"
   ]
  },
  {
   "cell_type": "code",
   "execution_count": null,
   "id": "57df0757-0664-43e8-9e0b-d7b0bc350bf6",
   "metadata": {},
   "outputs": [
    {
     "data": {
      "text/plain": [
       "2"
      ]
     },
     "execution_count": 16,
     "metadata": {},
     "output_type": "execute_result"
    }
   ],
   "source": [
    "tokenizer.add_tokens([\"[ES_SEP]\", \"#CITATION_TAG\"])"
   ]
  },
  {
   "cell_type": "code",
   "execution_count": null,
   "id": "0b14196d-5fe9-4de5-9843-f44f14ed0d5b",
   "metadata": {},
   "outputs": [
    {
     "name": "stdout",
     "output_type": "stream",
     "text": [
      "Strategic, structural contingency and institutional explanations in the adoption of innovative manufacturing practices  [ES_SEP] Our hypotheses were all supported; in particular our study highlights the importance of institutional pressures (#CITATION_TAG; Ketchen and Hult, 2007; Liu et al., 2010; Sarkis et al., 2011; Bhakoo and Choi, 2013; Kauppi, 2013; Dubey et al. 2014) and top management commitment (Liang et al., 2007; Gattiker and Carter, 2010; Foerstl et al., 2015; Jabbour and Jabbour, 2015) in the management of both suppliers and customers within the context of GSCM.\n",
      "['strategic', ',', 'structural', 'contingency', 'and', 'institutional', 'explanations', 'in', 'the', 'adoption', 'of', 'innovative', 'manufacturing', 'practices', '[es_sep]', 'our', 'hypotheses', 'were', 'all', 'supported', ';', 'in', 'particular', 'our', 'study', 'highlights', 'the', 'importance', 'of', 'institutional', 'pressures', '(', '#citation_tag', ';', 'ket', '##chen', 'and', 'hu', '##lt', ',', '2007', ';', 'liu', 'et', 'al', '.', ',', '2010', ';', 'sar', '##ki', '##s', 'et', 'al', '.', ',', '2011', ';', 'bh', '##ako', '##o', 'and', 'choi', ',', '2013', ';', 'ka', '##up', '##pi', ',', '2013', ';', 'dub', '##ey', 'et', 'al', '.', '2014', ')', 'and', 'top', 'management', 'commitment', '(', 'liang', 'et', 'al', '.', ',', '2007', ';', 'gat', '##tik', '##er', 'and', 'carter', ',', '2010', ';', 'fo', '##ers', '##tl', 'et', 'al', '.', ',', '2015', ';', 'ja', '##bb', '##our', 'and', 'ja', '##bb', '##our', ',', '2015', ')', 'in', 'the', 'management', 'of', 'both', 'suppliers', 'and', 'customers', 'within', 'the', 'context', 'of', 'gs', '##cm', '.']\n"
     ]
    }
   ],
   "source": [
    "batch = train_df.iloc[0]\n",
    "text = batch[\"input_model\"]\n",
    "tokens = tokenizer.tokenize(text)\n",
    "print(text)\n",
    "print(tokens)"
   ]
  },
  {
   "cell_type": "code",
   "execution_count": null,
   "id": "bb4aa19e",
   "metadata": {},
   "outputs": [],
   "source": [
    "def tokenize(batch):\n",
    "    return tokenizer(batch[\"input_model\"], padding=\"max_length\", truncation=True, max_length=512)"
   ]
  },
  {
   "cell_type": "code",
   "execution_count": null,
   "id": "b11c8333",
   "metadata": {},
   "outputs": [
    {
     "data": {
      "application/vnd.jupyter.widget-view+json": {
       "model_id": "fcde902f110f4af5b8fcfb121a3807a1",
       "version_major": 2,
       "version_minor": 0
      },
      "text/plain": [
       "Map:   0%|          | 0/2400 [00:00<?, ? examples/s]"
      ]
     },
     "metadata": {},
     "output_type": "display_data"
    },
    {
     "data": {
      "application/vnd.jupyter.widget-view+json": {
       "model_id": "7f0ebad24bf34e769006f802cc535e68",
       "version_major": 2,
       "version_minor": 0
      },
      "text/plain": [
       "Map:   0%|          | 0/600 [00:00<?, ? examples/s]"
      ]
     },
     "metadata": {},
     "output_type": "display_data"
    },
    {
     "data": {
      "application/vnd.jupyter.widget-view+json": {
       "model_id": "53d715d982a547469efbc952a6f4a8b0",
       "version_major": 2,
       "version_minor": 0
      },
      "text/plain": [
       "Map:   0%|          | 0/1000 [00:00<?, ? examples/s]"
      ]
     },
     "metadata": {},
     "output_type": "display_data"
    }
   ],
   "source": [
    "#Tokenize the dataset\n",
    "tokenized_datasets = dataset.map(tokenize, batched=True)"
   ]
  },
  {
   "cell_type": "code",
   "execution_count": null,
   "id": "d4d23655",
   "metadata": {},
   "outputs": [
    {
     "data": {
      "text/plain": [
       "DatasetDict({\n",
       "    train: Dataset({\n",
       "        features: ['unique_id', 'cited_title', 'cited_abstract', 'citation_context', 'labels', 'input_model', 'input_ids', 'token_type_ids', 'attention_mask'],\n",
       "        num_rows: 2400\n",
       "    })\n",
       "    validation: Dataset({\n",
       "        features: ['unique_id', 'cited_title', 'cited_abstract', 'citation_context', 'labels', 'input_model', 'input_ids', 'token_type_ids', 'attention_mask'],\n",
       "        num_rows: 600\n",
       "    })\n",
       "    test: Dataset({\n",
       "        features: ['unique_id', 'cited_title', 'cited_abstract', 'citation_context', 'labels', 'input_model', 'input_ids', 'token_type_ids', 'attention_mask'],\n",
       "        num_rows: 1000\n",
       "    })\n",
       "})"
      ]
     },
     "execution_count": 20,
     "metadata": {},
     "output_type": "execute_result"
    }
   ],
   "source": [
    "tokenized_datasets"
   ]
  },
  {
   "cell_type": "markdown",
   "id": "3fa727e6",
   "metadata": {},
   "source": [
    "## Label Mapping\n",
    "\n",
    "Define the mapping between label IDs and label names."
   ]
  },
  {
   "cell_type": "code",
   "execution_count": null,
   "id": "59fdb0d1",
   "metadata": {},
   "outputs": [],
   "source": [
    "id2label = {\n",
    "0 : \"Background\",\n",
    "1: \"Compares_contrasts\",\n",
    "2:\"Extension\",\n",
    "3: \"Future\",\n",
    "4: \"Motivation\",\n",
    "5: \"Uses\"\n",
    "}\n",
    "\n",
    "label2id = {v: k for k, v in id2label.items()}"
   ]
  },
  {
   "cell_type": "markdown",
   "id": "160a52fd",
   "metadata": {},
   "source": [
    "## Model Setup\n",
    "\n",
    "Load the SciBERT model for sequence classification and resize the token embeddings to include new tokens."
   ]
  },
  {
   "cell_type": "code",
   "execution_count": null,
   "id": "0c4af041",
   "metadata": {},
   "outputs": [
    {
     "name": "stderr",
     "output_type": "stream",
     "text": [
      "/usr/local/lib/python3.10/dist-packages/torch/_utils.py:831: UserWarning: TypedStorage is deprecated. It will be removed in the future and UntypedStorage will be the only storage class. This should only matter to you if you are using storages directly.  To access UntypedStorage directly, use tensor.untyped_storage() instead of tensor.storage()\n",
      "  return self.fget.__get__(instance, owner)()\n",
      "Some weights of BertForSequenceClassification were not initialized from the model checkpoint at allenai/scibert_scivocab_uncased and are newly initialized: ['classifier.bias', 'classifier.weight']\n",
      "You should probably TRAIN this model on a down-stream task to be able to use it for predictions and inference.\n",
      "The new embeddings will be initialized from a multivariate normal distribution that has old embeddings' mean and covariance. As described in this article: https://nlp.stanford.edu/~johnhew/vocab-expansion.html. To disable this, use `mean_resizing=False`\n"
     ]
    },
    {
     "data": {
      "text/plain": [
       "Embedding(31092, 768, padding_idx=0)"
      ]
     },
     "execution_count": 22,
     "metadata": {},
     "output_type": "execute_result"
    }
   ],
   "source": [
    "num_labels = len(id2label)\n",
    "\n",
    "# Load the model\n",
    "config = AutoConfig.from_pretrained(model_name, num_labels=num_labels, id2label=id2label, label2id=label2id)\n",
    "model = AutoModelForSequenceClassification.from_pretrained(model_name, config=config)\n",
    "\n",
    "# Consider new vocabulary size\n",
    "model.resize_token_embeddings(len(tokenizer))"
   ]
  },
  {
   "cell_type": "code",
   "execution_count": null,
   "id": "57aec818",
   "metadata": {},
   "outputs": [
    {
     "data": {
      "text/plain": [
       "BertForSequenceClassification(\n",
       "  (bert): BertModel(\n",
       "    (embeddings): BertEmbeddings(\n",
       "      (word_embeddings): Embedding(31092, 768, padding_idx=0)\n",
       "      (position_embeddings): Embedding(512, 768)\n",
       "      (token_type_embeddings): Embedding(2, 768)\n",
       "      (LayerNorm): LayerNorm((768,), eps=1e-12, elementwise_affine=True)\n",
       "      (dropout): Dropout(p=0.1, inplace=False)\n",
       "    )\n",
       "    (encoder): BertEncoder(\n",
       "      (layer): ModuleList(\n",
       "        (0-11): 12 x BertLayer(\n",
       "          (attention): BertAttention(\n",
       "            (self): BertSdpaSelfAttention(\n",
       "              (query): Linear(in_features=768, out_features=768, bias=True)\n",
       "              (key): Linear(in_features=768, out_features=768, bias=True)\n",
       "              (value): Linear(in_features=768, out_features=768, bias=True)\n",
       "              (dropout): Dropout(p=0.1, inplace=False)\n",
       "            )\n",
       "            (output): BertSelfOutput(\n",
       "              (dense): Linear(in_features=768, out_features=768, bias=True)\n",
       "              (LayerNorm): LayerNorm((768,), eps=1e-12, elementwise_affine=True)\n",
       "              (dropout): Dropout(p=0.1, inplace=False)\n",
       "            )\n",
       "          )\n",
       "          (intermediate): BertIntermediate(\n",
       "            (dense): Linear(in_features=768, out_features=3072, bias=True)\n",
       "            (intermediate_act_fn): GELUActivation()\n",
       "          )\n",
       "          (output): BertOutput(\n",
       "            (dense): Linear(in_features=3072, out_features=768, bias=True)\n",
       "            (LayerNorm): LayerNorm((768,), eps=1e-12, elementwise_affine=True)\n",
       "            (dropout): Dropout(p=0.1, inplace=False)\n",
       "          )\n",
       "        )\n",
       "      )\n",
       "    )\n",
       "    (pooler): BertPooler(\n",
       "      (dense): Linear(in_features=768, out_features=768, bias=True)\n",
       "      (activation): Tanh()\n",
       "    )\n",
       "  )\n",
       "  (dropout): Dropout(p=0.1, inplace=False)\n",
       "  (classifier): Linear(in_features=768, out_features=6, bias=True)\n",
       ")"
      ]
     },
     "execution_count": 23,
     "metadata": {},
     "output_type": "execute_result"
    }
   ],
   "source": [
    "model"
   ]
  },
  {
   "cell_type": "markdown",
   "id": "e87bce54",
   "metadata": {},
   "source": [
    "## Training Arguments\n",
    "\n",
    "Set up the training arguments, including batch size, learning rate, and logging."
   ]
  },
  {
   "cell_type": "code",
   "execution_count": null,
   "id": "2a4b246b",
   "metadata": {},
   "outputs": [],
   "source": [
    "batch_size = 32\n",
    "training_dir = \"./checkpoints/scibert_training_global_info_micro\"\n",
    "\n",
    "training_args = TrainingArguments(\n",
    "    output_dir= training_dir,\n",
    "    overwrite_output_dir=True,\n",
    "    eval_strategy =\"epoch\",\n",
    "    save_strategy=\"epoch\",\n",
    "    learning_rate =2e-5,\n",
    "    per_device_train_batch_size=batch_size,\n",
    "    per_device_eval_batch_size=batch_size,\n",
    "    num_train_epochs=20,\n",
    "    weight_decay=0.01,\n",
    "    logging_dir=\"./logs/global_train_micro\",\n",
    "    load_best_model_at_end=True,\n",
    "    metric_for_best_model=\"f1\",\n",
    "    logging_strategy=\"steps\", \n",
    "    logging_steps=10,\n",
    ")"
   ]
  },
  {
   "cell_type": "code",
   "execution_count": null,
   "id": "47d714bb-72b9-4a72-b2fd-b51827831df7",
   "metadata": {},
   "outputs": [],
   "source": [
    "early_stopping = EarlyStoppingCallback(early_stopping_patience=6) "
   ]
  },
  {
   "cell_type": "code",
   "execution_count": null,
   "id": "d9976e70",
   "metadata": {},
   "outputs": [],
   "source": [
    "#Compute metrics function\n",
    "\n",
    "def compute_metrics(eval_pred):\n",
    "\n",
    "    accuracy = evaluate.load(\"accuracy\")\n",
    "    f1 = evaluate.load(\"f1\")\n",
    "\n",
    "    logits, labels = eval_pred\n",
    "    predictions = np.argmax(logits, axis=1)\n",
    "\n",
    "    acc = accuracy.compute(predictions=predictions, references=labels)[\"accuracy\"]\n",
    "    f1_score = f1.compute(predictions=predictions, references=labels, average=\"micro\")[\"f1\"]\n",
    "    return {\n",
    "        \"f1\": f1_score,\n",
    "        \"accuracy\": acc\n",
    "    }"
   ]
  },
  {
   "cell_type": "code",
   "execution_count": null,
   "id": "0845abfb",
   "metadata": {},
   "outputs": [
    {
     "name": "stderr",
     "output_type": "stream",
     "text": [
      "/tmp/ipykernel_2894798/2671797402.py:1: FutureWarning: `tokenizer` is deprecated and will be removed in version 5.0.0 for `Trainer.__init__`. Use `processing_class` instead.\n",
      "  trainer = Trainer(\n"
     ]
    }
   ],
   "source": [
    "trainer = Trainer(\n",
    "    model=model,\n",
    "    args=training_args,\n",
    "    train_dataset=tokenized_datasets[\"train\"],\n",
    "    eval_dataset=tokenized_datasets[\"validation\"],\n",
    "    compute_metrics=compute_metrics,\n",
    "    tokenizer=tokenizer,\n",
    "    callbacks = [early_stopping]\n",
    ")"
   ]
  },
  {
   "cell_type": "code",
   "execution_count": null,
   "id": "3325927b",
   "metadata": {
    "scrolled": true
   },
   "outputs": [
    {
     "name": "stderr",
     "output_type": "stream",
     "text": [
      "/usr/local/lib/python3.10/dist-packages/torch/nn/parallel/_functions.py:68: UserWarning: Was asked to gather along dimension 0, but all input tensors were scalars; will instead unsqueeze and return a vector.\n",
      "  warnings.warn('Was asked to gather along dimension 0, but all '\n"
     ]
    },
    {
     "data": {
      "text/html": [
       "\n",
       "    <div>\n",
       "      \n",
       "      <progress value='266' max='380' style='width:300px; height:20px; vertical-align: middle;'></progress>\n",
       "      [266/380 05:14 < 02:15, 0.84 it/s, Epoch 14/20]\n",
       "    </div>\n",
       "    <table border=\"1\" class=\"dataframe\">\n",
       "  <thead>\n",
       " <tr style=\"text-align: left;\">\n",
       "      <th>Epoch</th>\n",
       "      <th>Training Loss</th>\n",
       "      <th>Validation Loss</th>\n",
       "      <th>F1</th>\n",
       "      <th>Accuracy</th>\n",
       "    </tr>\n",
       "  </thead>\n",
       "  <tbody>\n",
       "    <tr>\n",
       "      <td>1</td>\n",
       "      <td>1.059500</td>\n",
       "      <td>1.192590</td>\n",
       "      <td>0.560000</td>\n",
       "      <td>0.560000</td>\n",
       "    </tr>\n",
       "    <tr>\n",
       "      <td>2</td>\n",
       "      <td>0.889500</td>\n",
       "      <td>1.222919</td>\n",
       "      <td>0.583333</td>\n",
       "      <td>0.583333</td>\n",
       "    </tr>\n",
       "    <tr>\n",
       "      <td>3</td>\n",
       "      <td>0.690300</td>\n",
       "      <td>1.297873</td>\n",
       "      <td>0.573333</td>\n",
       "      <td>0.573333</td>\n",
       "    </tr>\n",
       "    <tr>\n",
       "      <td>4</td>\n",
       "      <td>0.626900</td>\n",
       "      <td>1.336880</td>\n",
       "      <td>0.568333</td>\n",
       "      <td>0.568333</td>\n",
       "    </tr>\n",
       "    <tr>\n",
       "      <td>5</td>\n",
       "      <td>0.470800</td>\n",
       "      <td>1.395455</td>\n",
       "      <td>0.565000</td>\n",
       "      <td>0.565000</td>\n",
       "    </tr>\n",
       "    <tr>\n",
       "      <td>6</td>\n",
       "      <td>0.384000</td>\n",
       "      <td>1.519102</td>\n",
       "      <td>0.571667</td>\n",
       "      <td>0.571667</td>\n",
       "    </tr>\n",
       "    <tr>\n",
       "      <td>7</td>\n",
       "      <td>0.307300</td>\n",
       "      <td>1.565326</td>\n",
       "      <td>0.580000</td>\n",
       "      <td>0.580000</td>\n",
       "    </tr>\n",
       "    <tr>\n",
       "      <td>8</td>\n",
       "      <td>0.228800</td>\n",
       "      <td>1.693383</td>\n",
       "      <td>0.586667</td>\n",
       "      <td>0.586667</td>\n",
       "    </tr>\n",
       "    <tr>\n",
       "      <td>9</td>\n",
       "      <td>0.193900</td>\n",
       "      <td>1.762537</td>\n",
       "      <td>0.581667</td>\n",
       "      <td>0.581667</td>\n",
       "    </tr>\n",
       "    <tr>\n",
       "      <td>10</td>\n",
       "      <td>0.142300</td>\n",
       "      <td>1.800612</td>\n",
       "      <td>0.585000</td>\n",
       "      <td>0.585000</td>\n",
       "    </tr>\n",
       "    <tr>\n",
       "      <td>11</td>\n",
       "      <td>0.120200</td>\n",
       "      <td>1.872343</td>\n",
       "      <td>0.586667</td>\n",
       "      <td>0.586667</td>\n",
       "    </tr>\n",
       "    <tr>\n",
       "      <td>12</td>\n",
       "      <td>0.088300</td>\n",
       "      <td>1.934942</td>\n",
       "      <td>0.580000</td>\n",
       "      <td>0.580000</td>\n",
       "    </tr>\n",
       "    <tr>\n",
       "      <td>13</td>\n",
       "      <td>0.067600</td>\n",
       "      <td>1.977298</td>\n",
       "      <td>0.583333</td>\n",
       "      <td>0.583333</td>\n",
       "    </tr>\n",
       "    <tr>\n",
       "      <td>14</td>\n",
       "      <td>0.054100</td>\n",
       "      <td>2.014426</td>\n",
       "      <td>0.576667</td>\n",
       "      <td>0.576667</td>\n",
       "    </tr>\n",
       "  </tbody>\n",
       "</table><p>"
      ],
      "text/plain": [
       "<IPython.core.display.HTML object>"
      ]
     },
     "metadata": {},
     "output_type": "display_data"
    },
    {
     "name": "stderr",
     "output_type": "stream",
     "text": [
      "/usr/local/lib/python3.10/dist-packages/torch/nn/parallel/_functions.py:68: UserWarning: Was asked to gather along dimension 0, but all input tensors were scalars; will instead unsqueeze and return a vector.\n",
      "  warnings.warn('Was asked to gather along dimension 0, but all '\n",
      "/usr/local/lib/python3.10/dist-packages/torch/nn/parallel/_functions.py:68: UserWarning: Was asked to gather along dimension 0, but all input tensors were scalars; will instead unsqueeze and return a vector.\n",
      "  warnings.warn('Was asked to gather along dimension 0, but all '\n",
      "/usr/local/lib/python3.10/dist-packages/torch/nn/parallel/_functions.py:68: UserWarning: Was asked to gather along dimension 0, but all input tensors were scalars; will instead unsqueeze and return a vector.\n",
      "  warnings.warn('Was asked to gather along dimension 0, but all '\n",
      "/usr/local/lib/python3.10/dist-packages/torch/nn/parallel/_functions.py:68: UserWarning: Was asked to gather along dimension 0, but all input tensors were scalars; will instead unsqueeze and return a vector.\n",
      "  warnings.warn('Was asked to gather along dimension 0, but all '\n",
      "/usr/local/lib/python3.10/dist-packages/torch/nn/parallel/_functions.py:68: UserWarning: Was asked to gather along dimension 0, but all input tensors were scalars; will instead unsqueeze and return a vector.\n",
      "  warnings.warn('Was asked to gather along dimension 0, but all '\n",
      "/usr/local/lib/python3.10/dist-packages/torch/nn/parallel/_functions.py:68: UserWarning: Was asked to gather along dimension 0, but all input tensors were scalars; will instead unsqueeze and return a vector.\n",
      "  warnings.warn('Was asked to gather along dimension 0, but all '\n",
      "/usr/local/lib/python3.10/dist-packages/torch/nn/parallel/_functions.py:68: UserWarning: Was asked to gather along dimension 0, but all input tensors were scalars; will instead unsqueeze and return a vector.\n",
      "  warnings.warn('Was asked to gather along dimension 0, but all '\n",
      "/usr/local/lib/python3.10/dist-packages/torch/nn/parallel/_functions.py:68: UserWarning: Was asked to gather along dimension 0, but all input tensors were scalars; will instead unsqueeze and return a vector.\n",
      "  warnings.warn('Was asked to gather along dimension 0, but all '\n",
      "/usr/local/lib/python3.10/dist-packages/torch/nn/parallel/_functions.py:68: UserWarning: Was asked to gather along dimension 0, but all input tensors were scalars; will instead unsqueeze and return a vector.\n",
      "  warnings.warn('Was asked to gather along dimension 0, but all '\n",
      "/usr/local/lib/python3.10/dist-packages/torch/nn/parallel/_functions.py:68: UserWarning: Was asked to gather along dimension 0, but all input tensors were scalars; will instead unsqueeze and return a vector.\n",
      "  warnings.warn('Was asked to gather along dimension 0, but all '\n",
      "/usr/local/lib/python3.10/dist-packages/torch/nn/parallel/_functions.py:68: UserWarning: Was asked to gather along dimension 0, but all input tensors were scalars; will instead unsqueeze and return a vector.\n",
      "  warnings.warn('Was asked to gather along dimension 0, but all '\n",
      "/usr/local/lib/python3.10/dist-packages/torch/nn/parallel/_functions.py:68: UserWarning: Was asked to gather along dimension 0, but all input tensors were scalars; will instead unsqueeze and return a vector.\n",
      "  warnings.warn('Was asked to gather along dimension 0, but all '\n",
      "/usr/local/lib/python3.10/dist-packages/torch/nn/parallel/_functions.py:68: UserWarning: Was asked to gather along dimension 0, but all input tensors were scalars; will instead unsqueeze and return a vector.\n",
      "  warnings.warn('Was asked to gather along dimension 0, but all '\n"
     ]
    },
    {
     "data": {
      "text/plain": [
       "TrainOutput(global_step=266, training_loss=0.3710955894531164, metrics={'train_runtime': 315.8416, 'train_samples_per_second': 151.975, 'train_steps_per_second': 1.203, 'total_flos': 8840848962355200.0, 'train_loss': 0.3710955894531164, 'epoch': 14.0})"
      ]
     },
     "execution_count": 33,
     "metadata": {},
     "output_type": "execute_result"
    }
   ],
   "source": [
    "trainer.train()"
   ]
  },
  {
   "cell_type": "code",
   "execution_count": null,
   "id": "1436a39b-3b03-459b-b172-c889b0045954",
   "metadata": {},
   "outputs": [
    {
     "name": "stderr",
     "output_type": "stream",
     "text": [
      "/usr/local/lib/python3.10/dist-packages/torch/nn/parallel/_functions.py:68: UserWarning: Was asked to gather along dimension 0, but all input tensors were scalars; will instead unsqueeze and return a vector.\n",
      "  warnings.warn('Was asked to gather along dimension 0, but all '\n"
     ]
    },
    {
     "data": {
      "text/html": [],
      "text/plain": [
       "<IPython.core.display.HTML object>"
      ]
     },
     "metadata": {},
     "output_type": "display_data"
    }
   ],
   "source": [
    "predictions_output = trainer.predict(test_dataset=tokenized_datasets[\"test\"])"
   ]
  },
  {
   "cell_type": "markdown",
   "id": "12e8fee6",
   "metadata": {},
   "source": [
    "## Compute Metrics and Confusion Matrix\n",
    "\n",
    "Calculate precision, recall, F1-score, and plot the confusion matrix."
   ]
  },
  {
   "cell_type": "code",
   "execution_count": null,
   "id": "adc30ee1-35c0-4dd8-8cab-06475f1d0220",
   "metadata": {},
   "outputs": [
    {
     "name": "stdout",
     "output_type": "stream",
     "text": [
      "Micro Precision: 0.5010, Recall: 0.5010, F1: 0.5010\n",
      "Macro Precision: 0.2259, Recall: 0.2226, F1: 0.2158\n"
     ]
    }
   ],
   "source": [
    "logits = predictions_output.predictions\n",
    "true_labels = predictions_output.label_ids\n",
    "pred_labels = np.argmax(logits, axis=-1)\n",
    "\n",
    "\n",
    "cm = confusion_matrix(true_labels, pred_labels)\n",
    "\n",
    "precision, recall, f1, _ = precision_recall_fscore_support(\n",
    "    true_labels,\n",
    "    pred_labels,\n",
    "    average=None  # \"macro\", \"micro\", or None for per-class\n",
    ")\n",
    "\n",
    "# Get micro and macro scores\n",
    "precision_micro, recall_micro, f1_micro, _ = precision_recall_fscore_support(\n",
    "    true_labels, pred_labels, average='micro'\n",
    ")\n",
    "\n",
    "precision_macro, recall_macro, f1_macro, _ = precision_recall_fscore_support(\n",
    "    true_labels, pred_labels, average='macro'\n",
    ")\n",
    "\n",
    "print(f\"Micro Precision: {precision_micro:.4f}, Recall: {recall_micro:.4f}, F1: {f1_micro:.4f}\")\n",
    "print(f\"Macro Precision: {precision_macro:.4f}, Recall: {recall_macro:.4f}, F1: {f1_macro:.4f}\")\n"
   ]
  },
  {
   "cell_type": "code",
   "execution_count": null,
   "id": "43047c58-5c5e-4f2b-b319-5436c414188f",
   "metadata": {},
   "outputs": [
    {
     "name": "stderr",
     "output_type": "stream",
     "text": [
      "/usr/local/lib/python3.10/dist-packages/matplotlib/projections/__init__.py:63: UserWarning: Unable to import Axes3D. This may be due to multiple versions of Matplotlib being installed (e.g. as a system package and as a pip package). As a result, the 3D projection is not available.\n",
      "  warnings.warn(\"Unable to import Axes3D. This may be due to multiple versions of \"\n"
     ]
    },
    {
     "data": {
      "image/png": "[encoded data removed]",
      "text/plain": [
       "<Figure size 800x600 with 2 Axes>"
      ]
     },
     "metadata": {},
     "output_type": "display_data"
    }
   ],
   "source": [
    "labels = [str(i) for i in range(cm.shape[0])]  # or use your class names\n",
    "\n",
    "plt.figure(figsize=(8, 6))\n",
    "sns.heatmap(cm, annot=True, fmt='d', cmap='Blues', xticklabels=labels, yticklabels=labels)\n",
    "plt.xlabel(\"Predicted Label\")\n",
    "plt.ylabel(\"True Label\")\n",
    "plt.title(\"Confusion Matrix\")\n",
    "plt.show()\n"
   ]
  },
  {
   "cell_type": "markdown",
   "id": "cc608c73",
   "metadata": {},
   "source": [
    "## Per-Class Metrics\n",
    "\n",
    "Print precision, recall, F1-score, and support for each class."
   ]
  },
  {
   "cell_type": "code",
   "execution_count": null,
   "id": "5faca286-d71e-4c14-93a1-e5271f63162f",
   "metadata": {},
   "outputs": [
    {
     "name": "stdout",
     "output_type": "stream",
     "text": [
      "Class 0:\n",
      "  Precision: 0.5905\n",
      "  Recall:    0.7794\n",
      "  F1-score:  0.6719\n",
      "  Support:   544\n",
      "Class 1:\n",
      "  Precision: 0.1824\n",
      "  Recall:    0.2231\n",
      "  F1-score:  0.2007\n",
      "  Support:   121\n",
      "Class 2:\n",
      "  Precision: 0.0500\n",
      "  Recall:    0.0169\n",
      "  F1-score:  0.0253\n",
      "  Support:   59\n",
      "Class 3:\n",
      "  Precision: 0.0000\n",
      "  Recall:    0.0000\n",
      "  F1-score:  0.0000\n",
      "  Support:   15\n",
      "Class 4:\n",
      "  Precision: 0.0000\n",
      "  Recall:    0.0000\n",
      "  F1-score:  0.0000\n",
      "  Support:   106\n",
      "Class 5:\n",
      "  Precision: 0.5326\n",
      "  Recall:    0.3161\n",
      "  F1-score:  0.3968\n",
      "  Support:   155\n"
     ]
    }
   ],
   "source": [
    "# Get precision, recall, F1-score for each class\n",
    "precision, recall, f1, support = precision_recall_fscore_support(\n",
    "    true_labels,\n",
    "    pred_labels,\n",
    "    average=None  # per-class metrics\n",
    ")\n",
    "\n",
    "# Print them\n",
    "num_classes = len(precision)\n",
    "for i in range(num_classes):\n",
    "    print(f\"Class {i}:\")\n",
    "    print(f\"  Precision: {precision[i]:.4f}\")\n",
    "    print(f\"  Recall:    {recall[i]:.4f}\")\n",
    "    print(f\"  F1-score:  {f1[i]:.4f}\")\n",
    "    print(f\"  Support:   {support[i]}\")\n"
   ]
  }
 ],
 "metadata": {
  "kernelspec": {
   "display_name": "Python 3 (ipykernel)",
   "language": "python",
   "name": "python3"
  },
  "language_info": {
   "codemirror_mode": {
    "name": "ipython",
    "version": 3
   },
   "file_extension": ".py",
   "mimetype": "text/x-python",
   "name": "python",
   "nbconvert_exporter": "python",
   "pygments_lexer": "ipython3",
   "version": "3.10.12"
  }
 },
 "nbformat": 4,
 "nbformat_minor": 5
}
